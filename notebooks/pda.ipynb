{
 "cells": [
  {
   "cell_type": "markdown",
   "metadata": {},
   "source": [
    "# Project Progress Report"
   ]
  },
  {
   "cell_type": "markdown",
   "metadata": {},
   "source": [
    "<div align=\"center\"> TEAM 22 </div>\n",
    "<div align=\"center\">NAME : DONGMIN KIM, HAYEON KIM, MINSU NA, YEONGMIN LEE </div>\n",
    " \n",
    "We aim to develop a **“What-to-Play-Next”** recommendation system using the Spotify\n",
    "Million Playlist Dataset. Our goal is to design a model that can personalized next\n",
    "song recommendations based on a given set of listening histories or user\n",
    "preferences."
   ]
  },
  {
   "cell_type": "markdown",
   "metadata": {},
   "source": [
    "[Progress report requirements]\n",
    "Progress report is a check-in to show that you have made progress towards the completion of the project. By the project progress due date, your team should have:\n",
    "\n",
    "- Obtained all or most of the data\n",
    "- Come up with a reasonable model\n",
    "- Produced at least one promising result\n",
    "- Provide a convincing argument for the feasibility of completing the project within the time available"
   ]
  },
  {
   "cell_type": "code",
   "execution_count": 1,
   "metadata": {},
   "outputs": [
    {
     "name": "stdout",
     "output_type": "stream",
     "text": [
      "/home/dongmin/userdata/dongmin/robot-radio-station\n"
     ]
    }
   ],
   "source": [
    "# 빼도 되는건..가?\n",
    "%cd ..\n",
    "%load_ext autoreload\n",
    "%autoreload 2"
   ]
  },
  {
   "cell_type": "markdown",
   "metadata": {},
   "source": [
    "## Data Preprocess"
   ]
  },
  {
   "cell_type": "code",
   "execution_count": 19,
   "metadata": {},
   "outputs": [],
   "source": [
    "import os\n",
    "from pathlib import Path\n",
    "from operator import itemgetter\n",
    "from collections import Counter\n",
    "\n",
    "import math\n",
    "import random\n",
    "\n",
    "import json\n",
    "import csv\n",
    "\n",
    "import numpy as np\n",
    "import matplotlib.pyplot as plt\n",
    "\n",
    "dprint = lambda x: print(json.dumps(x, indent=2))"
   ]
  },
  {
   "cell_type": "code",
   "execution_count": 3,
   "metadata": {},
   "outputs": [],
   "source": [
    "HOME = Path.home()\n",
    "CWD = Path.cwd()"
   ]
  },
  {
   "cell_type": "code",
   "execution_count": 10,
   "metadata": {},
   "outputs": [],
   "source": [
    "DATASET_DIR = HOME / 'userdata' / 'dongmin' / 'smp_dataset'\n",
    "DATA_DIR = DATASET_DIR / 'data'"
   ]
  },
  {
   "cell_type": "markdown",
   "metadata": {},
   "source": [
    "#### 1. Import data"
   ]
  },
  {
   "cell_type": "code",
   "execution_count": 12,
   "metadata": {},
   "outputs": [
    {
     "data": {
      "text/plain": [
       "(1000,\n",
       " [PosixPath('/home/dongmin/userdata/dongmin/smp_dataset/data/mpd.slice.0-999.json'),\n",
       "  PosixPath('/home/dongmin/userdata/dongmin/smp_dataset/data/mpd.slice.1000-1999.json'),\n",
       "  PosixPath('/home/dongmin/userdata/dongmin/smp_dataset/data/mpd.slice.2000-2999.json'),\n",
       "  PosixPath('/home/dongmin/userdata/dongmin/smp_dataset/data/mpd.slice.3000-3999.json'),\n",
       "  PosixPath('/home/dongmin/userdata/dongmin/smp_dataset/data/mpd.slice.4000-4999.json')])"
      ]
     },
     "execution_count": 12,
     "metadata": {},
     "output_type": "execute_result"
    }
   ],
   "source": [
    "json_paths = DATA_DIR.glob('*.json')\n",
    "json_paths = sorted(json_paths, key=lambda x: int(x.stem.split('.')[-1].split('-')[0]))\n",
    "json_paths = list(json_paths)\n",
    "\n",
    "len(json_paths), json_paths[:5]"
   ]
  },
  {
   "cell_type": "code",
   "execution_count": 17,
   "metadata": {},
   "outputs": [
    {
     "data": {
      "text/plain": [
       "(1000000,\n",
       " {'name': 'Throwbacks',\n",
       "  'collaborative': 'false',\n",
       "  'pid': 0,\n",
       "  'modified_at': 1493424000,\n",
       "  'num_tracks': 52,\n",
       "  'num_albums': 47,\n",
       "  'num_followers': 1,\n",
       "  'tracks': [{'pos': 0,\n",
       "    'artist_name': 'Missy Elliott',\n",
       "    'track_uri': 'spotify:track:0UaMYEvWZi0ZqiDOoHU3YI',\n",
       "    'artist_uri': 'spotify:artist:2wIVse2owClT7go1WT98tk',\n",
       "    'track_name': 'Lose Control (feat. Ciara & Fat Man Scoop)',\n",
       "    'album_uri': 'spotify:album:6vV5UrXcfyQD1wu4Qo2I9K',\n",
       "    'duration_ms': 226863,\n",
       "    'album_name': 'The Cookbook'},\n",
       "   {'pos': 1,\n",
       "    'artist_name': 'Britney Spears',\n",
       "    'track_uri': 'spotify:track:6I9VzXrHxO9rA9A5euc8Ak',\n",
       "    'artist_uri': 'spotify:artist:26dSoYclwsYLMAKD3tpOr4',\n",
       "    'track_name': 'Toxic',\n",
       "    'album_uri': 'spotify:album:0z7pVBGOD7HCIB7S8eLkLI',\n",
       "    'duration_ms': 198800,\n",
       "    'album_name': 'In The Zone'},\n",
       "   {'pos': 2,\n",
       "    'artist_name': 'Beyoncé',\n",
       "    'track_uri': 'spotify:track:0WqIKmW4BTrj3eJFmnCKMv',\n",
       "    'artist_uri': 'spotify:artist:6vWDO969PvNqNYHIOW5v0m',\n",
       "    'track_name': 'Crazy In Love',\n",
       "    'album_uri': 'spotify:album:25hVFAxTlDvXbx2X2QkUkE',\n",
       "    'duration_ms': 235933,\n",
       "    'album_name': 'Dangerously In Love (Alben für die Ewigkeit)'},\n",
       "   {'pos': 3,\n",
       "    'artist_name': 'Justin Timberlake',\n",
       "    'track_uri': 'spotify:track:1AWQoqb9bSvzTjaLralEkT',\n",
       "    'artist_uri': 'spotify:artist:31TPClRtHm23RisEBtV3X7',\n",
       "    'track_name': 'Rock Your Body',\n",
       "    'album_uri': 'spotify:album:6QPkyl04rXwTGlGlcYaRoW',\n",
       "    'duration_ms': 267266,\n",
       "    'album_name': 'Justified'},\n",
       "   {'pos': 4,\n",
       "    'artist_name': 'Shaggy',\n",
       "    'track_uri': 'spotify:track:1lzr43nnXAijIGYnCT8M8H',\n",
       "    'artist_uri': 'spotify:artist:5EvFsr3kj42KNv97ZEnqij',\n",
       "    'track_name': \"It Wasn't Me\",\n",
       "    'album_uri': 'spotify:album:6NmFmPX56pcLBOFMhIiKvF',\n",
       "    'duration_ms': 227600,\n",
       "    'album_name': 'Hot Shot'},\n",
       "   {'pos': 5,\n",
       "    'artist_name': 'Usher',\n",
       "    'track_uri': 'spotify:track:0XUfyU2QviPAs6bxSpXYG4',\n",
       "    'artist_uri': 'spotify:artist:23zg3TcAtWQy7J6upgbUnj',\n",
       "    'track_name': 'Yeah!',\n",
       "    'album_uri': 'spotify:album:0vO0b1AvY49CPQyVisJLj0',\n",
       "    'duration_ms': 250373,\n",
       "    'album_name': 'Confessions'},\n",
       "   {'pos': 6,\n",
       "    'artist_name': 'Usher',\n",
       "    'track_uri': 'spotify:track:68vgtRHr7iZHpzGpon6Jlo',\n",
       "    'artist_uri': 'spotify:artist:23zg3TcAtWQy7J6upgbUnj',\n",
       "    'track_name': 'My Boo',\n",
       "    'album_uri': 'spotify:album:1RM6MGv6bcl6NrAG8PGoZk',\n",
       "    'duration_ms': 223440,\n",
       "    'album_name': 'Confessions'},\n",
       "   {'pos': 7,\n",
       "    'artist_name': 'The Pussycat Dolls',\n",
       "    'track_uri': 'spotify:track:3BxWKCI06eQ5Od8TY2JBeA',\n",
       "    'artist_uri': 'spotify:artist:6wPhSqRtPu1UhRCDX5yaDJ',\n",
       "    'track_name': 'Buttons',\n",
       "    'album_uri': 'spotify:album:5x8e8UcCeOgrOzSnDGuPye',\n",
       "    'duration_ms': 225560,\n",
       "    'album_name': 'PCD'},\n",
       "   {'pos': 8,\n",
       "    'artist_name': \"Destiny's Child\",\n",
       "    'track_uri': 'spotify:track:7H6ev70Weq6DdpZyyTmUXk',\n",
       "    'artist_uri': 'spotify:artist:1Y8cdNmUJH7yBTd9yOvr5i',\n",
       "    'track_name': 'Say My Name',\n",
       "    'album_uri': 'spotify:album:283NWqNsCA9GwVHrJk59CG',\n",
       "    'duration_ms': 271333,\n",
       "    'album_name': \"The Writing's On The Wall\"},\n",
       "   {'pos': 9,\n",
       "    'artist_name': 'OutKast',\n",
       "    'track_uri': 'spotify:track:2PpruBYCo4H7WOBJ7Q2EwM',\n",
       "    'artist_uri': 'spotify:artist:1G9G7WwrXka3Z1r7aIDjI7',\n",
       "    'track_name': 'Hey Ya! - Radio Mix / Club Mix',\n",
       "    'album_uri': 'spotify:album:1UsmQ3bpJTyK6ygoOOjG1r',\n",
       "    'duration_ms': 235213,\n",
       "    'album_name': 'Speakerboxxx/The Love Below'},\n",
       "   {'pos': 10,\n",
       "    'artist_name': 'Nelly Furtado',\n",
       "    'track_uri': 'spotify:track:2gam98EZKrF9XuOkU13ApN',\n",
       "    'artist_uri': 'spotify:artist:2jw70GZXlAI8QzWeY2bgRc',\n",
       "    'track_name': 'Promiscuous',\n",
       "    'album_uri': 'spotify:album:2yboV2QBcVGEhcRlYuPpDT',\n",
       "    'duration_ms': 242293,\n",
       "    'album_name': 'Loose'},\n",
       "   {'pos': 11,\n",
       "    'artist_name': 'Jesse McCartney',\n",
       "    'track_uri': 'spotify:track:4Y45aqo9QMa57rDsAJv40A',\n",
       "    'artist_uri': 'spotify:artist:2Hjj68yyUPiC0HKEOigcEp',\n",
       "    'track_name': 'Right Where You Want Me - Radio Edit Version',\n",
       "    'album_uri': 'spotify:album:6022khQj4Fsvvse8f3A4lF',\n",
       "    'duration_ms': 211693,\n",
       "    'album_name': 'Right Where You Want Me'},\n",
       "   {'pos': 12,\n",
       "    'artist_name': 'Jesse McCartney',\n",
       "    'track_uri': 'spotify:track:1HwpWwa6bnqqRhK8agG4RS',\n",
       "    'artist_uri': 'spotify:artist:2Hjj68yyUPiC0HKEOigcEp',\n",
       "    'track_name': 'Beautiful Soul',\n",
       "    'album_uri': 'spotify:album:2gidE8vgVOkYufANjuvj3S',\n",
       "    'duration_ms': 214226,\n",
       "    'album_name': 'Beautiful Soul'},\n",
       "   {'pos': 13,\n",
       "    'artist_name': 'Jesse McCartney',\n",
       "    'track_uri': 'spotify:track:20ORwCJusz4KS2PbTPVNKo',\n",
       "    'artist_uri': 'spotify:artist:2Hjj68yyUPiC0HKEOigcEp',\n",
       "    'track_name': \"Leavin'\",\n",
       "    'album_uri': 'spotify:album:2tDCfKFy2YW9N0IwNSRdOJ',\n",
       "    'duration_ms': 216880,\n",
       "    'album_name': 'Departure - Recharged'},\n",
       "   {'pos': 14,\n",
       "    'artist_name': 'Cassie',\n",
       "    'track_uri': 'spotify:track:7k6IzwMGpxnRghE7YosnXT',\n",
       "    'artist_uri': 'spotify:artist:27FGXRNruFoOdf1vP8dqcH',\n",
       "    'track_name': 'Me & U',\n",
       "    'album_uri': 'spotify:album:0j1qzjaJmsF1FkcICf3hRu',\n",
       "    'duration_ms': 192213,\n",
       "    'album_name': 'Cassie'},\n",
       "   {'pos': 15,\n",
       "    'artist_name': 'Omarion',\n",
       "    'track_uri': 'spotify:track:1Bv0Yl01xBDZD4OQP93fyl',\n",
       "    'artist_uri': 'spotify:artist:0f5nVCcR06GX8Qikz0COtT',\n",
       "    'track_name': 'Ice Box',\n",
       "    'album_uri': 'spotify:album:4cVVEOXyUaWo7vlDWIkKsI',\n",
       "    'duration_ms': 256426,\n",
       "    'album_name': '21'},\n",
       "   {'pos': 16,\n",
       "    'artist_name': 'Avril Lavigne',\n",
       "    'track_uri': 'spotify:track:4omisSlTk6Dsq2iQD7MA07',\n",
       "    'artist_uri': 'spotify:artist:0p4nmQO2msCgU4IF37Wi3j',\n",
       "    'track_name': 'Sk8er Boi',\n",
       "    'album_uri': 'spotify:album:7h6XeTzy0SRXDrFJeA9gO7',\n",
       "    'duration_ms': 204000,\n",
       "    'album_name': 'Let Go'},\n",
       "   {'pos': 17,\n",
       "    'artist_name': 'Chris Brown',\n",
       "    'track_uri': 'spotify:track:7xYnUQigPoIDAMPVK79NEq',\n",
       "    'artist_uri': 'spotify:artist:7bXgB6jMjp9ATFy66eO08Z',\n",
       "    'track_name': 'Run It!',\n",
       "    'album_uri': 'spotify:album:49gaz5rhWWgqCw61M9700v',\n",
       "    'duration_ms': 229866,\n",
       "    'album_name': 'Chris Brown'},\n",
       "   {'pos': 18,\n",
       "    'artist_name': 'Beyoncé',\n",
       "    'track_uri': 'spotify:track:6d8A5sAx9TfdeseDvfWNHd',\n",
       "    'artist_uri': 'spotify:artist:6vWDO969PvNqNYHIOW5v0m',\n",
       "    'track_name': 'Check On It - feat. Bun B and Slim Thug',\n",
       "    'album_uri': 'spotify:album:3MJHoQUI828kmB6IpjejbW',\n",
       "    'duration_ms': 210453,\n",
       "    'album_name': \"B'Day\"},\n",
       "   {'pos': 19,\n",
       "    'artist_name': \"Destiny's Child\",\n",
       "    'track_uri': 'spotify:track:4pmc2AxSEq6g7hPVlJCPyP',\n",
       "    'artist_uri': 'spotify:artist:1Y8cdNmUJH7yBTd9yOvr5i',\n",
       "    'track_name': \"Jumpin', Jumpin'\",\n",
       "    'album_uri': 'spotify:album:283NWqNsCA9GwVHrJk59CG',\n",
       "    'duration_ms': 230200,\n",
       "    'album_name': \"The Writing's On The Wall\"},\n",
       "   {'pos': 20,\n",
       "    'artist_name': 'Sheryl Crow',\n",
       "    'track_uri': 'spotify:track:215JYyyUnrJ98NK3KEwu6d',\n",
       "    'artist_uri': 'spotify:artist:4TKTii6gnOnUXQHyuo9JaD',\n",
       "    'track_name': 'Soak Up The Sun',\n",
       "    'album_uri': 'spotify:album:5NYcTXrRZHxNyRKVOd0vs1',\n",
       "    'duration_ms': 292306,\n",
       "    'album_name': \"C'Mon C'Mon\"},\n",
       "   {'pos': 21,\n",
       "    'artist_name': 'The Black Eyed Peas',\n",
       "    'track_uri': 'spotify:track:0uqPG793dkDDN7sCUJJIVC',\n",
       "    'artist_uri': 'spotify:artist:1yxSLGMDHlW21z4YXirZDS',\n",
       "    'track_name': 'Where Is The Love?',\n",
       "    'album_uri': 'spotify:album:1bNyYpkDRovmErm4QeDrpJ',\n",
       "    'duration_ms': 272533,\n",
       "    'album_name': 'Elephunk'},\n",
       "   {'pos': 22,\n",
       "    'artist_name': 'Bowling For Soup',\n",
       "    'track_uri': 'spotify:track:19Js5ypV6JKn4DMExHQbGc',\n",
       "    'artist_uri': 'spotify:artist:5ND0mGcL9SKSjWIjPd0xIb',\n",
       "    'track_name': \"Stacy's Mom\",\n",
       "    'album_uri': 'spotify:album:3Q7xpHmP8k3HryE0LQdIk0',\n",
       "    'duration_ms': 193042,\n",
       "    'album_name': \"I've Never Done Anything Like This\"},\n",
       "   {'pos': 23,\n",
       "    'artist_name': 'The Click Five',\n",
       "    'track_uri': 'spotify:track:1JURww012QnWAw0zZXi6Aa',\n",
       "    'artist_uri': 'spotify:artist:01lz5VBfkMFDteSA9pKJuP',\n",
       "    'track_name': 'Just The Girl',\n",
       "    'album_uri': 'spotify:album:7gZilZGYr8M7UwEeYvdAKZ',\n",
       "    'duration_ms': 234146,\n",
       "    'album_name': 'Greetings From Imrie House'},\n",
       "   {'pos': 24,\n",
       "    'artist_name': 'Chris Brown',\n",
       "    'track_uri': 'spotify:track:7DFnq8FYhHMCylykf6ZCxA',\n",
       "    'artist_uri': 'spotify:artist:7bXgB6jMjp9ATFy66eO08Z',\n",
       "    'track_name': 'Yo (Excuse Me Miss)',\n",
       "    'album_uri': 'spotify:album:49gaz5rhWWgqCw61M9700v',\n",
       "    'duration_ms': 229040,\n",
       "    'album_name': 'Chris Brown'},\n",
       "   {'pos': 25,\n",
       "    'artist_name': 'Jonas Brothers',\n",
       "    'track_uri': 'spotify:track:1TfAhjzRBWzYZ8IdUV3igl',\n",
       "    'artist_uri': 'spotify:artist:7gOdHgIoIKoe4i9Tta6qdD',\n",
       "    'track_name': 'Year 3000',\n",
       "    'album_uri': 'spotify:album:20RAjvZ9LX2FDuDU8RDuIl',\n",
       "    'duration_ms': 201960,\n",
       "    'album_name': 'Jonas Brothers'},\n",
       "   {'pos': 26,\n",
       "    'artist_name': 'Lil Mama',\n",
       "    'track_uri': 'spotify:track:1Y4ZdPOOgCUhBcKZOrUFiS',\n",
       "    'artist_uri': 'spotify:artist:5qK5bOC6wLtuLhG5KvU17c',\n",
       "    'track_name': 'Lip Gloss',\n",
       "    'album_uri': 'spotify:album:3vgVsm9GY3i39fZ7b1sqV5',\n",
       "    'duration_ms': 219773,\n",
       "    'album_name': 'Lip Gloss'},\n",
       "   {'pos': 27,\n",
       "    'artist_name': 'Cascada',\n",
       "    'track_uri': 'spotify:track:6MjljecHzHelUDismyKkba',\n",
       "    'artist_uri': 'spotify:artist:0N0d3kjwdY2h7UVuTdJGfp',\n",
       "    'track_name': 'Everytime We Touch - Radio Edit',\n",
       "    'album_uri': 'spotify:album:5DvuKZTzEKjm0oUuhP237C',\n",
       "    'duration_ms': 199120,\n",
       "    'album_name': 'Everytime We Touch'},\n",
       "   {'pos': 28,\n",
       "    'artist_name': 'Jason Derulo',\n",
       "    'track_uri': 'spotify:track:67T6l4q3zVjC5nZZPXByU8',\n",
       "    'artist_uri': 'spotify:artist:07YZf4WDAMNwqr4jfgOZ8y',\n",
       "    'track_name': 'Whatcha Say',\n",
       "    'album_uri': 'spotify:album:0aVJmVAeEx78nAA1rAKYf7',\n",
       "    'duration_ms': 221253,\n",
       "    'album_name': 'Jason Derulo'},\n",
       "   {'pos': 29,\n",
       "    'artist_name': 'Ne-Yo',\n",
       "    'track_uri': 'spotify:track:34ceTg8ChN5HjrqiIYCn9Q',\n",
       "    'artist_uri': 'spotify:artist:21E3waRsmPlU7jZsS13rcj',\n",
       "    'track_name': 'Miss Independent',\n",
       "    'album_uri': 'spotify:album:6dTn9vJSxVTIGm4Cu5dH4x',\n",
       "    'duration_ms': 232000,\n",
       "    'album_name': 'Year Of The Gentleman'},\n",
       "   {'pos': 30,\n",
       "    'artist_name': 'Miley Cyrus',\n",
       "    'track_uri': 'spotify:track:5Q0Nhxo0l2bP3pNjpGJwV1',\n",
       "    'artist_uri': 'spotify:artist:5YGY8feqx7naU7z4HrwZM6',\n",
       "    'track_name': 'Party In The U.S.A.',\n",
       "    'album_uri': 'spotify:album:64aKkqxc3Ur2LYIKeS5osS',\n",
       "    'duration_ms': 202066,\n",
       "    'album_name': 'The Time Of Our Lives'},\n",
       "   {'pos': 31,\n",
       "    'artist_name': 'Boys Like Girls',\n",
       "    'track_uri': 'spotify:track:6GIrIt2M39wEGwjCQjGChX',\n",
       "    'artist_uri': 'spotify:artist:0vWCyXMrrvMlCcepuOJaGI',\n",
       "    'track_name': 'The Great Escape',\n",
       "    'album_uri': 'spotify:album:4WqgusSAgXkrjbXzqdBY68',\n",
       "    'duration_ms': 206520,\n",
       "    'album_name': 'Boys Like Girls'},\n",
       "   {'pos': 32,\n",
       "    'artist_name': 'Iyaz',\n",
       "    'track_uri': 'spotify:track:4E5P1XyAFtrjpiIxkydly4',\n",
       "    'artist_uri': 'spotify:artist:5tKXB9uuebKE34yowVaU3C',\n",
       "    'track_name': 'Replay',\n",
       "    'album_uri': 'spotify:album:44hyrGuZKAvITbmrlhryf8',\n",
       "    'duration_ms': 182306,\n",
       "    'album_name': 'Replay'},\n",
       "   {'pos': 33,\n",
       "    'artist_name': 'Chris Brown',\n",
       "    'track_uri': 'spotify:track:3H1LCvO3fVsK2HPguhbml0',\n",
       "    'artist_uri': 'spotify:artist:7bXgB6jMjp9ATFy66eO08Z',\n",
       "    'track_name': 'Forever',\n",
       "    'album_uri': 'spotify:album:1UtE4zAlSE2TlKmTFgrTg5',\n",
       "    'duration_ms': 277106,\n",
       "    'album_name': 'Exclusive - The Forever Edition'},\n",
       "   {'pos': 34,\n",
       "    'artist_name': 'Kesha',\n",
       "    'track_uri': 'spotify:track:3uoQULcUWfnt6nc6J7Vgai',\n",
       "    'artist_uri': 'spotify:artist:6LqNN22kT3074XbTVUrhzX',\n",
       "    'track_name': 'Your Love Is My Drug',\n",
       "    'album_uri': 'spotify:album:5peRwC6pQh8eaoIPtvmmOB',\n",
       "    'duration_ms': 187133,\n",
       "    'album_name': 'Animal'},\n",
       "   {'pos': 35,\n",
       "    'artist_name': 'Ne-Yo',\n",
       "    'track_uri': 'spotify:track:2nbClS09zsIAqNkshg6jnp',\n",
       "    'artist_uri': 'spotify:artist:21E3waRsmPlU7jZsS13rcj',\n",
       "    'track_name': 'Closer',\n",
       "    'album_uri': 'spotify:album:1nv3KEXZPmcwOXMoLTs1vn',\n",
       "    'duration_ms': 234360,\n",
       "    'album_name': 'Year Of The Gentleman'},\n",
       "   {'pos': 36,\n",
       "    'artist_name': 'Justin Bieber',\n",
       "    'track_uri': 'spotify:track:69ghzc538EQSVon2Gm3wrr',\n",
       "    'artist_uri': 'spotify:artist:1uNFoZAHBGtllmzznpCI3s',\n",
       "    'track_name': 'One Less Lonely Girl',\n",
       "    'album_uri': 'spotify:album:1rG5TDs3jYh6OU753I54CI',\n",
       "    'duration_ms': 229106,\n",
       "    'album_name': 'My World'},\n",
       "   {'pos': 37,\n",
       "    'artist_name': 'M.I.A.',\n",
       "    'track_uri': 'spotify:track:1kusepF3AacIEtUTYrw4GV',\n",
       "    'artist_uri': 'spotify:artist:0QJIPDAEDILuo8AIq3pMuU',\n",
       "    'track_name': 'Paper Planes',\n",
       "    'album_uri': 'spotify:album:1Lymt1abGCr3J06bbnmWca',\n",
       "    'duration_ms': 203760,\n",
       "    'album_name': 'Kala'},\n",
       "   {'pos': 38,\n",
       "    'artist_name': 'The Killers',\n",
       "    'track_uri': 'spotify:track:7oK9VyNzrYvRFo7nQEYkWN',\n",
       "    'artist_uri': 'spotify:artist:0C0XlULifJtAgn6ZNCW2eu',\n",
       "    'track_name': 'Mr. Brightside',\n",
       "    'album_uri': 'spotify:album:4undIeGmofnAYKhnDclN1w',\n",
       "    'duration_ms': 222586,\n",
       "    'album_name': 'Hot Fuss'},\n",
       "   {'pos': 39,\n",
       "    'artist_name': 'blink-182',\n",
       "    'track_uri': 'spotify:track:12qZHAeOyTf93YAWvGDTat',\n",
       "    'artist_uri': 'spotify:artist:6FBDaR13swtiWwGhX1WQsP',\n",
       "    'track_name': 'All The Small Things',\n",
       "    'album_uri': 'spotify:album:1fF8kYX49s5Ufv4XEY5sjW',\n",
       "    'duration_ms': 168000,\n",
       "    'album_name': 'Enema Of The State'},\n",
       "   {'pos': 40,\n",
       "    'artist_name': 'The Pussycat Dolls',\n",
       "    'track_uri': 'spotify:track:2jFlMILIQzs7lSFudG9lbo',\n",
       "    'artist_uri': 'spotify:artist:6wPhSqRtPu1UhRCDX5yaDJ',\n",
       "    'track_name': 'Beep',\n",
       "    'album_uri': 'spotify:album:0ylxpXE00fVxh6d60tevT8',\n",
       "    'duration_ms': 229360,\n",
       "    'album_name': 'PCD'},\n",
       "   {'pos': 41,\n",
       "    'artist_name': 'Justin Bieber',\n",
       "    'track_uri': 'spotify:track:4I2GqMe7L2ccMpUbnDzYLH',\n",
       "    'artist_uri': 'spotify:artist:1uNFoZAHBGtllmzznpCI3s',\n",
       "    'track_name': 'Somebody To Love',\n",
       "    'album_uri': 'spotify:album:6gdLfnf2vdNlMTyhJHaDLs',\n",
       "    'duration_ms': 220920,\n",
       "    'album_name': 'My Worlds'},\n",
       "   {'pos': 42,\n",
       "    'artist_name': 'The All-American Rejects',\n",
       "    'track_uri': 'spotify:track:5lDriBxJd22IhOH9zTcFrV',\n",
       "    'artist_uri': 'spotify:artist:3vAaWhdBR38Q02ohXqaNHT',\n",
       "    'track_name': 'Dirty Little Secret',\n",
       "    'album_uri': 'spotify:album:3PWEGZ6CYvXRnr0JCECsDe',\n",
       "    'duration_ms': 193653,\n",
       "    'album_name': 'Move Along'},\n",
       "   {'pos': 43,\n",
       "    'artist_name': 'Justin Bieber',\n",
       "    'track_uri': 'spotify:track:2eJ8ij1T3cNUKiGdcUvKhy',\n",
       "    'artist_uri': 'spotify:artist:1uNFoZAHBGtllmzznpCI3s',\n",
       "    'track_name': 'Baby',\n",
       "    'album_uri': 'spotify:album:6gdLfnf2vdNlMTyhJHaDLs',\n",
       "    'duration_ms': 213973,\n",
       "    'album_name': 'My Worlds'},\n",
       "   {'pos': 44,\n",
       "    'artist_name': 'Vanessa Carlton',\n",
       "    'track_uri': 'spotify:track:5y69gQtK33qxb8a24ACkCy',\n",
       "    'artist_uri': 'spotify:artist:5ILrArfIV0tMURcHJN8Q07',\n",
       "    'track_name': 'A Thousand Miles',\n",
       "    'album_uri': 'spotify:album:7D6BFTArx2ajtkKRVXIKO2',\n",
       "    'duration_ms': 237493,\n",
       "    'album_name': 'Be Not Nobody'},\n",
       "   {'pos': 45,\n",
       "    'artist_name': 'Cris Cab',\n",
       "    'track_uri': 'spotify:track:1X5WGCrUMuwRFuYU1eAo2I',\n",
       "    'artist_uri': 'spotify:artist:7vWBZm3sQ8yQvfV4nXxHXK',\n",
       "    'track_name': 'Livin on Sunday',\n",
       "    'album_uri': 'spotify:album:2kNznk4KDkYXifzOAUDoXN',\n",
       "    'duration_ms': 201230,\n",
       "    'album_name': 'Red Road'},\n",
       "   {'pos': 46,\n",
       "    'artist_name': 'Miley Cyrus',\n",
       "    'track_uri': 'spotify:track:3utIAb67sOu0QHxBE88P1M',\n",
       "    'artist_uri': 'spotify:artist:5YGY8feqx7naU7z4HrwZM6',\n",
       "    'track_name': 'See You Again',\n",
       "    'album_uri': 'spotify:album:6SkirMQoL4QhnXOM5MH5El',\n",
       "    'duration_ms': 190453,\n",
       "    'album_name': 'See You Again'},\n",
       "   {'pos': 47,\n",
       "    'artist_name': 'Jesse McCartney',\n",
       "    'track_uri': 'spotify:track:3jkdQNkDTxxXtjSO4l0o1H',\n",
       "    'artist_uri': 'spotify:artist:2Hjj68yyUPiC0HKEOigcEp',\n",
       "    'track_name': 'How Do You Sleep? - Featuring Ludacris',\n",
       "    'album_uri': 'spotify:album:2tDCfKFy2YW9N0IwNSRdOJ',\n",
       "    'duration_ms': 208333,\n",
       "    'album_name': 'Departure - Recharged'},\n",
       "   {'pos': 48,\n",
       "    'artist_name': 'Demi Lovato',\n",
       "    'track_uri': 'spotify:track:5c1sfI6wIQEsSUw0xrkFdl',\n",
       "    'artist_uri': 'spotify:artist:6S2OmqARrzebs0tKUEyXyp',\n",
       "    'track_name': 'This Is Me',\n",
       "    'album_uri': 'spotify:album:6vykWEBzBfEKYJxEFR1AQl',\n",
       "    'duration_ms': 189186,\n",
       "    'album_name': 'Camp Rock Original Soundtrack'},\n",
       "   {'pos': 49,\n",
       "    'artist_name': 'Avril Lavigne',\n",
       "    'track_uri': 'spotify:track:6sqNctd7MlJoKDOxPVCAvU',\n",
       "    'artist_uri': 'spotify:artist:0p4nmQO2msCgU4IF37Wi3j',\n",
       "    'track_name': 'My Happy Ending',\n",
       "    'album_uri': 'spotify:album:7851Vsjv3apS52sXUik6iF',\n",
       "    'duration_ms': 242413,\n",
       "    'album_name': 'Under My Skin'},\n",
       "   {'pos': 50,\n",
       "    'artist_name': 'We The Kings',\n",
       "    'track_uri': 'spotify:track:1b7vg5T9YKR3NNqXfBYRF7',\n",
       "    'artist_uri': 'spotify:artist:3ao3jf5d70Tf4fPh2bnXVl',\n",
       "    'track_name': 'Check Yes Juliet',\n",
       "    'album_uri': 'spotify:album:2F1hfUOuMnOxtSfrktL8VX',\n",
       "    'duration_ms': 220133,\n",
       "    'album_name': 'We The Kings'},\n",
       "   {'pos': 51,\n",
       "    'artist_name': 'Boys Like Girls',\n",
       "    'track_uri': 'spotify:track:6GIrIt2M39wEGwjCQjGChX',\n",
       "    'artist_uri': 'spotify:artist:0vWCyXMrrvMlCcepuOJaGI',\n",
       "    'track_name': 'The Great Escape',\n",
       "    'album_uri': 'spotify:album:4WqgusSAgXkrjbXzqdBY68',\n",
       "    'duration_ms': 206520,\n",
       "    'album_name': 'Boys Like Girls'}],\n",
       "  'num_edits': 6,\n",
       "  'duration_ms': 11532414,\n",
       "  'num_artists': 37})"
      ]
     },
     "execution_count": 17,
     "metadata": {},
     "output_type": "execute_result"
    }
   ],
   "source": [
    "playlists = []\n",
    "\n",
    "for j_p in json_paths:\n",
    "  with open(j_p, 'r') as f:\n",
    "    chunk = json.load(f)\n",
    "    playlists += chunk['playlists']\n",
    "\n",
    "len(playlists), playlists[0]"
   ]
  },
  {
   "cell_type": "markdown",
   "metadata": {},
   "source": [
    "#### 2. Data Status"
   ]
  },
  {
   "cell_type": "markdown",
   "metadata": {},
   "source": [
    "**\\# of tracks in a playlist**\n",
    "* mean: 66.346428\n",
    "* std: 53.66933116446316\n",
    "* min: 5\n",
    "* max: 376"
   ]
  },
  {
   "cell_type": "code",
   "execution_count": 23,
   "metadata": {},
   "outputs": [
    {
     "name": "stdout",
     "output_type": "stream",
     "text": [
      "True\n"
     ]
    },
    {
     "data": {
      "image/png": "[encoded data removed]",
      "text/plain": [
       "<Figure size 640x480 with 1 Axes>"
      ]
     },
     "metadata": {},
     "output_type": "display_data"
    },
    {
     "name": "stdout",
     "output_type": "stream",
     "text": [
      "mean: 66.346428\n",
      "std: 53.66933116446316\n",
      "min: 5\n",
      "max: 376\n"
     ]
    }
   ],
   "source": [
    "num_tracks = [ (len(p['tracks']), p['num_tracks']) for p in playlists ]\n",
    "print(all([ x[0] == x[1] for x in num_tracks ]))\n",
    "\n",
    "num_tracks = [ x[0] for x in num_tracks ]\n",
    "num_tracks_cnt = Counter(num_tracks)\n",
    "\n",
    "plt.bar(num_tracks_cnt.keys(), num_tracks_cnt.values())\n",
    "plt.title('# of tracks in a playlist')\n",
    "plt.show()\n",
    "\n",
    "print(f'mean: {np.mean(num_tracks)}')\n",
    "print(f'std: {np.std(num_tracks)}')\n",
    "print(f'min: {min(num_tracks)}')\n",
    "print(f'max: {max(num_tracks)}')"
   ]
  },
  {
   "cell_type": "markdown",
   "metadata": {},
   "source": [
    "**\\# of unique tracks in dataset**\n",
    "* \\# total tracks: 66,346,428\n",
    "* \\# unique tracks: 2,262,292 (2M)"
   ]
  },
  {
   "cell_type": "code",
   "execution_count": 22,
   "metadata": {},
   "outputs": [
    {
     "name": "stdout",
     "output_type": "stream",
     "text": [
      "num total tracks: 66346428\n",
      "num unique tracks: 2262292\n"
     ]
    }
   ],
   "source": [
    "uri_list = [ \n",
    "  t['track_uri'].split(':')[-1]\n",
    "  for p in playlists\n",
    "  for t in p['tracks']\n",
    "]\n",
    "\n",
    "print(f'num total tracks: {len(uri_list)}')\n",
    "print(f'num unique tracks: {len(set(uri_list))}')"
   ]
  },
  {
   "cell_type": "markdown",
   "metadata": {},
   "source": [
    "**# of unique albums in dataset**\n",
    "* \\# unique albums: 734,684"
   ]
  },
  {
   "cell_type": "code",
   "execution_count": 25,
   "metadata": {},
   "outputs": [
    {
     "name": "stdout",
     "output_type": "stream",
     "text": [
      "num unique: 734684\n"
     ]
    }
   ],
   "source": [
    "uri_list = [ \n",
    "  t['album_uri'].split(':')[-1]\n",
    "  for p in playlists\n",
    "  for t in p['tracks']\n",
    "]\n",
    "\n",
    "print(f'num unique: {len(set(uri_list))}')"
   ]
  },
  {
   "cell_type": "markdown",
   "metadata": {},
   "source": [
    "**# of unique artists in dataset**\n",
    "* \\# unique artists: 295,860"
   ]
  },
  {
   "cell_type": "code",
   "execution_count": 26,
   "metadata": {},
   "outputs": [
    {
     "name": "stdout",
     "output_type": "stream",
     "text": [
      "num unique aritst: 295860\n"
     ]
    }
   ],
   "source": [
    "uri_list = [ \n",
    "  t['artist_uri'].split(':')[-1]\n",
    "  for p in playlists\n",
    "  for t in p['tracks']\n",
    "]\n",
    "\n",
    "print(f'num unique aritst: {len(set(uri_list))}')"
   ]
  },
  {
   "cell_type": "markdown",
   "metadata": {},
   "source": [
    "## Model"
   ]
  },
  {
   "cell_type": "markdown",
   "metadata": {},
   "source": [
    "#### 1. Model architecture"
   ]
  },
  {
   "cell_type": "markdown",
   "metadata": {},
   "source": [
    "왜 우리가 이 모델을 선택했는지 + 이 모델의 장점 부가설명 간략하게 추가"
   ]
  },
  {
   "cell_type": "markdown",
   "metadata": {},
   "source": [
    "## Results"
   ]
  },
  {
   "cell_type": "markdown",
   "metadata": {},
   "source": [
    "#### 1."
   ]
  },
  {
   "cell_type": "markdown",
   "metadata": {},
   "source": [
    "시각화 2개이상"
   ]
  },
  {
   "cell_type": "markdown",
   "metadata": {},
   "source": [
    "## Conclusion & Future Plan"
   ]
  },
  {
   "cell_type": "markdown",
   "metadata": {},
   "source": [
    "#### 1. Conclusion"
   ]
  },
  {
   "cell_type": "markdown",
   "metadata": {},
   "source": [
    "#### 2. Future Plan"
   ]
  },
  {
   "cell_type": "markdown",
   "metadata": {},
   "source": [
    "이미지 넣어서 같이 설명하면 좋을듯"
   ]
  }
 ],
 "metadata": {
  "kernelspec": {
   "display_name": "robot-radio-station",
   "language": "python",
   "name": "python3"
  },
  "language_info": {
   "codemirror_mode": {
    "name": "ipython",
    "version": 3
   },
   "file_extension": ".py",
   "mimetype": "text/x-python",
   "name": "python",
   "nbconvert_exporter": "python",
   "pygments_lexer": "ipython3",
   "version": "3.12.9"
  }
 },
 "nbformat": 4,
 "nbformat_minor": 2
}
